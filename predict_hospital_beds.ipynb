{
 "cells": [
  {
   "cell_type": "code",
   "execution_count": 63,
   "id": "34609358",
   "metadata": {},
   "outputs": [],
   "source": [
    "import numpy as np\n",
    "import pandas as pd\n",
    "import matplotlib.pyplot as plt\n"
   ]
  },
  {
   "cell_type": "markdown",
   "id": "57955487",
   "metadata": {},
   "source": [
    "# 1. Carga de datos \n",
    "---"
   ]
  },
  {
   "cell_type": "code",
   "execution_count": 2,
   "id": "00034fa6",
   "metadata": {},
   "outputs": [
    {
     "name": "stdout",
     "output_type": "stream",
     "text": [
      "patient_id        object\n",
      "name              object\n",
      "age                int64\n",
      "arrival_date      object\n",
      "departure_date    object\n",
      "service           object\n",
      "satisfaction       int64\n",
      "dtype: object\n"
     ]
    }
   ],
   "source": [
    "# Carga de datos\n",
    "df_patients = pd.read_csv(\"data/patients.csv\")\n",
    "df_services = pd.read_csv(\"data/services_weekly.csv\")\n",
    "df_staff = pd.read_csv(\"data/staff.csv\")\n",
    "\n",
    "print(df_patients.dtypes)"
   ]
  },
  {
   "cell_type": "code",
   "execution_count": 3,
   "id": "c18bbbb5",
   "metadata": {},
   "outputs": [],
   "source": [
    "# Convertimos arrival_date y departure_date a formato datetime\n",
    "df_patients[\"arrival_date\"] = pd.to_datetime(df_patients[\"arrival_date\"])\n",
    "df_patients[\"departure_date\"] = pd.to_datetime(df_patients[\"departure_date\"])\n",
    "\n",
    "# Agregamos la columna para saber la duracion de la estadia de cada uno de los pacientes\n",
    "df_patients[\"length_of_stay\"] = (df_patients[\"departure_date\"] - df_patients[\"arrival_date\"]).dt.days"
   ]
  },
  {
   "cell_type": "code",
   "execution_count": 4,
   "id": "6d27364b",
   "metadata": {},
   "outputs": [
    {
     "name": "stdout",
     "output_type": "stream",
     "text": [
      "Pacientes: (1000, 8)\n",
      "Servicios: (208, 10)\n",
      "Staff: (110, 4)\n"
     ]
    }
   ],
   "source": [
    "# Informacion basica\n",
    "print(f\"Pacientes: {df_patients.shape}\")\n",
    "print(f\"Servicios: {df_services.shape}\")\n",
    "print(f\"Staff: {df_staff.shape}\")"
   ]
  },
  {
   "cell_type": "code",
   "execution_count": 5,
   "id": "4e0989b7",
   "metadata": {},
   "outputs": [
    {
     "data": {
      "text/html": [
       "<div>\n",
       "<style scoped>\n",
       "    .dataframe tbody tr th:only-of-type {\n",
       "        vertical-align: middle;\n",
       "    }\n",
       "\n",
       "    .dataframe tbody tr th {\n",
       "        vertical-align: top;\n",
       "    }\n",
       "\n",
       "    .dataframe thead th {\n",
       "        text-align: right;\n",
       "    }\n",
       "</style>\n",
       "<table border=\"1\" class=\"dataframe\">\n",
       "  <thead>\n",
       "    <tr style=\"text-align: right;\">\n",
       "      <th></th>\n",
       "      <th>patient_id</th>\n",
       "      <th>name</th>\n",
       "      <th>age</th>\n",
       "      <th>arrival_date</th>\n",
       "      <th>departure_date</th>\n",
       "      <th>service</th>\n",
       "      <th>satisfaction</th>\n",
       "      <th>length_of_stay</th>\n",
       "    </tr>\n",
       "  </thead>\n",
       "  <tbody>\n",
       "    <tr>\n",
       "      <th>0</th>\n",
       "      <td>PAT-09484753</td>\n",
       "      <td>Richard Rodriguez</td>\n",
       "      <td>24</td>\n",
       "      <td>2025-03-16</td>\n",
       "      <td>2025-03-22</td>\n",
       "      <td>surgery</td>\n",
       "      <td>61</td>\n",
       "      <td>6</td>\n",
       "    </tr>\n",
       "    <tr>\n",
       "      <th>1</th>\n",
       "      <td>PAT-f0644084</td>\n",
       "      <td>Shannon Walker</td>\n",
       "      <td>6</td>\n",
       "      <td>2025-12-13</td>\n",
       "      <td>2025-12-14</td>\n",
       "      <td>surgery</td>\n",
       "      <td>83</td>\n",
       "      <td>1</td>\n",
       "    </tr>\n",
       "    <tr>\n",
       "      <th>2</th>\n",
       "      <td>PAT-ac6162e4</td>\n",
       "      <td>Julia Torres</td>\n",
       "      <td>24</td>\n",
       "      <td>2025-06-29</td>\n",
       "      <td>2025-07-05</td>\n",
       "      <td>general_medicine</td>\n",
       "      <td>83</td>\n",
       "      <td>6</td>\n",
       "    </tr>\n",
       "    <tr>\n",
       "      <th>3</th>\n",
       "      <td>PAT-3dda2bb5</td>\n",
       "      <td>Crystal Johnson</td>\n",
       "      <td>32</td>\n",
       "      <td>2025-10-12</td>\n",
       "      <td>2025-10-23</td>\n",
       "      <td>emergency</td>\n",
       "      <td>81</td>\n",
       "      <td>11</td>\n",
       "    </tr>\n",
       "    <tr>\n",
       "      <th>4</th>\n",
       "      <td>PAT-08591375</td>\n",
       "      <td>Garrett Lin</td>\n",
       "      <td>25</td>\n",
       "      <td>2025-02-18</td>\n",
       "      <td>2025-02-25</td>\n",
       "      <td>ICU</td>\n",
       "      <td>76</td>\n",
       "      <td>7</td>\n",
       "    </tr>\n",
       "  </tbody>\n",
       "</table>\n",
       "</div>"
      ],
      "text/plain": [
       "     patient_id               name  age arrival_date departure_date  \\\n",
       "0  PAT-09484753  Richard Rodriguez   24   2025-03-16     2025-03-22   \n",
       "1  PAT-f0644084     Shannon Walker    6   2025-12-13     2025-12-14   \n",
       "2  PAT-ac6162e4       Julia Torres   24   2025-06-29     2025-07-05   \n",
       "3  PAT-3dda2bb5    Crystal Johnson   32   2025-10-12     2025-10-23   \n",
       "4  PAT-08591375        Garrett Lin   25   2025-02-18     2025-02-25   \n",
       "\n",
       "            service  satisfaction  length_of_stay  \n",
       "0           surgery            61               6  \n",
       "1           surgery            83               1  \n",
       "2  general_medicine            83               6  \n",
       "3         emergency            81              11  \n",
       "4               ICU            76               7  "
      ]
     },
     "execution_count": 5,
     "metadata": {},
     "output_type": "execute_result"
    }
   ],
   "source": [
    "df_patients.head()"
   ]
  },
  {
   "cell_type": "code",
   "execution_count": 6,
   "id": "48a168f2",
   "metadata": {},
   "outputs": [
    {
     "data": {
      "text/html": [
       "<div>\n",
       "<style scoped>\n",
       "    .dataframe tbody tr th:only-of-type {\n",
       "        vertical-align: middle;\n",
       "    }\n",
       "\n",
       "    .dataframe tbody tr th {\n",
       "        vertical-align: top;\n",
       "    }\n",
       "\n",
       "    .dataframe thead th {\n",
       "        text-align: right;\n",
       "    }\n",
       "</style>\n",
       "<table border=\"1\" class=\"dataframe\">\n",
       "  <thead>\n",
       "    <tr style=\"text-align: right;\">\n",
       "      <th></th>\n",
       "      <th>week</th>\n",
       "      <th>month</th>\n",
       "      <th>service</th>\n",
       "      <th>available_beds</th>\n",
       "      <th>patients_request</th>\n",
       "      <th>patients_admitted</th>\n",
       "      <th>patients_refused</th>\n",
       "      <th>patient_satisfaction</th>\n",
       "      <th>staff_morale</th>\n",
       "      <th>event</th>\n",
       "    </tr>\n",
       "  </thead>\n",
       "  <tbody>\n",
       "    <tr>\n",
       "      <th>0</th>\n",
       "      <td>1</td>\n",
       "      <td>1</td>\n",
       "      <td>emergency</td>\n",
       "      <td>32</td>\n",
       "      <td>76</td>\n",
       "      <td>32</td>\n",
       "      <td>44</td>\n",
       "      <td>67</td>\n",
       "      <td>70</td>\n",
       "      <td>none</td>\n",
       "    </tr>\n",
       "    <tr>\n",
       "      <th>1</th>\n",
       "      <td>1</td>\n",
       "      <td>1</td>\n",
       "      <td>surgery</td>\n",
       "      <td>45</td>\n",
       "      <td>130</td>\n",
       "      <td>45</td>\n",
       "      <td>85</td>\n",
       "      <td>83</td>\n",
       "      <td>78</td>\n",
       "      <td>flu</td>\n",
       "    </tr>\n",
       "    <tr>\n",
       "      <th>2</th>\n",
       "      <td>1</td>\n",
       "      <td>1</td>\n",
       "      <td>general_medicine</td>\n",
       "      <td>37</td>\n",
       "      <td>201</td>\n",
       "      <td>37</td>\n",
       "      <td>164</td>\n",
       "      <td>97</td>\n",
       "      <td>43</td>\n",
       "      <td>flu</td>\n",
       "    </tr>\n",
       "    <tr>\n",
       "      <th>3</th>\n",
       "      <td>1</td>\n",
       "      <td>1</td>\n",
       "      <td>ICU</td>\n",
       "      <td>22</td>\n",
       "      <td>31</td>\n",
       "      <td>22</td>\n",
       "      <td>9</td>\n",
       "      <td>84</td>\n",
       "      <td>91</td>\n",
       "      <td>flu</td>\n",
       "    </tr>\n",
       "    <tr>\n",
       "      <th>4</th>\n",
       "      <td>2</td>\n",
       "      <td>1</td>\n",
       "      <td>emergency</td>\n",
       "      <td>28</td>\n",
       "      <td>169</td>\n",
       "      <td>28</td>\n",
       "      <td>141</td>\n",
       "      <td>75</td>\n",
       "      <td>64</td>\n",
       "      <td>none</td>\n",
       "    </tr>\n",
       "  </tbody>\n",
       "</table>\n",
       "</div>"
      ],
      "text/plain": [
       "   week  month           service  available_beds  patients_request  \\\n",
       "0     1      1         emergency              32                76   \n",
       "1     1      1           surgery              45               130   \n",
       "2     1      1  general_medicine              37               201   \n",
       "3     1      1               ICU              22                31   \n",
       "4     2      1         emergency              28               169   \n",
       "\n",
       "   patients_admitted  patients_refused  patient_satisfaction  staff_morale  \\\n",
       "0                 32                44                    67            70   \n",
       "1                 45                85                    83            78   \n",
       "2                 37               164                    97            43   \n",
       "3                 22                 9                    84            91   \n",
       "4                 28               141                    75            64   \n",
       "\n",
       "  event  \n",
       "0  none  \n",
       "1   flu  \n",
       "2   flu  \n",
       "3   flu  \n",
       "4  none  "
      ]
     },
     "execution_count": 6,
     "metadata": {},
     "output_type": "execute_result"
    }
   ],
   "source": [
    "df_services.head()"
   ]
  },
  {
   "cell_type": "code",
   "execution_count": 7,
   "id": "cfdfd785",
   "metadata": {},
   "outputs": [
    {
     "data": {
      "text/html": [
       "<div>\n",
       "<style scoped>\n",
       "    .dataframe tbody tr th:only-of-type {\n",
       "        vertical-align: middle;\n",
       "    }\n",
       "\n",
       "    .dataframe tbody tr th {\n",
       "        vertical-align: top;\n",
       "    }\n",
       "\n",
       "    .dataframe thead th {\n",
       "        text-align: right;\n",
       "    }\n",
       "</style>\n",
       "<table border=\"1\" class=\"dataframe\">\n",
       "  <thead>\n",
       "    <tr style=\"text-align: right;\">\n",
       "      <th></th>\n",
       "      <th>staff_id</th>\n",
       "      <th>staff_name</th>\n",
       "      <th>role</th>\n",
       "      <th>service</th>\n",
       "    </tr>\n",
       "  </thead>\n",
       "  <tbody>\n",
       "    <tr>\n",
       "      <th>0</th>\n",
       "      <td>STF-5ca26577</td>\n",
       "      <td>Allison Hill</td>\n",
       "      <td>doctor</td>\n",
       "      <td>emergency</td>\n",
       "    </tr>\n",
       "    <tr>\n",
       "      <th>1</th>\n",
       "      <td>STF-02ae59ca</td>\n",
       "      <td>Noah Rhodes</td>\n",
       "      <td>doctor</td>\n",
       "      <td>emergency</td>\n",
       "    </tr>\n",
       "    <tr>\n",
       "      <th>2</th>\n",
       "      <td>STF-d8006e7c</td>\n",
       "      <td>Angie Henderson</td>\n",
       "      <td>doctor</td>\n",
       "      <td>emergency</td>\n",
       "    </tr>\n",
       "    <tr>\n",
       "      <th>3</th>\n",
       "      <td>STF-212d8b31</td>\n",
       "      <td>Daniel Wagner</td>\n",
       "      <td>doctor</td>\n",
       "      <td>emergency</td>\n",
       "    </tr>\n",
       "    <tr>\n",
       "      <th>4</th>\n",
       "      <td>STF-107a58e4</td>\n",
       "      <td>Cristian Santos</td>\n",
       "      <td>doctor</td>\n",
       "      <td>emergency</td>\n",
       "    </tr>\n",
       "  </tbody>\n",
       "</table>\n",
       "</div>"
      ],
      "text/plain": [
       "       staff_id       staff_name    role    service\n",
       "0  STF-5ca26577     Allison Hill  doctor  emergency\n",
       "1  STF-02ae59ca      Noah Rhodes  doctor  emergency\n",
       "2  STF-d8006e7c  Angie Henderson  doctor  emergency\n",
       "3  STF-212d8b31    Daniel Wagner  doctor  emergency\n",
       "4  STF-107a58e4  Cristian Santos  doctor  emergency"
      ]
     },
     "execution_count": 7,
     "metadata": {},
     "output_type": "execute_result"
    }
   ],
   "source": [
    "df_staff.head()"
   ]
  },
  {
   "cell_type": "markdown",
   "id": "a9ec5553",
   "metadata": {},
   "source": [
    "# 2. EDA\n",
    "---"
   ]
  },
  {
   "cell_type": "code",
   "execution_count": 8,
   "id": "c1900dcc",
   "metadata": {},
   "outputs": [
    {
     "name": "stdout",
     "output_type": "stream",
     "text": [
      "ANALISIS DE PACIENTES\n",
      "Pacientes Totales: 1000\n",
      "Edad Promedio: 45.337\n",
      "Estadia Promedio: 7.407\n"
     ]
    }
   ],
   "source": [
    "total_patients = len(df_patients)\n",
    "avg_age = df_patients['age'].mean()\n",
    "avg_stay = df_patients['length_of_stay'].mean()\n",
    "\n",
    "print(\"ANALISIS DE PACIENTES\")\n",
    "print(f\"Pacientes Totales: {total_patients}\")\n",
    "print(f\"Edad Promedio: {avg_age}\")\n",
    "print(f\"Estadia Promedio: {avg_stay}\")"
   ]
  },
  {
   "cell_type": "code",
   "execution_count": 81,
   "id": "88e990bd",
   "metadata": {},
   "outputs": [
    {
     "name": "stdout",
     "output_type": "stream",
     "text": [
      "Pacientes por servicio\n",
      "service\n",
      "emergency           263\n",
      "surgery             254\n",
      "general_medicine    242\n",
      "ICU                 241\n",
      "Name: count, dtype: int64\n"
     ]
    },
    {
     "data": {
      "image/png": "[encoded data removed]",
      "text/plain": [
       "<Figure size 1000x400 with 1 Axes>"
      ]
     },
     "metadata": {},
     "output_type": "display_data"
    }
   ],
   "source": [
    "# Distribuciones de servicio\n",
    "service_dist = df_patients['service'].value_counts()\n",
    "print(\"Pacientes por servicio\")\n",
    "print(service_dist)\n",
    "\n",
    "# Visualizacion\n",
    "fig, ax = plt.subplots(figsize=(10, 4));\n",
    "\n",
    "cmap = plt.get_cmap('tab20')                    # elige colormap (tab20, viridis, etc.)\n",
    "colors = ['#3498db', '#2ecc71', '#f39c12', '#9b59b6', '#e74c3c']\n",
    "\n",
    "ax.barh(service_dist.index, service_dist.values, color=colors)\n",
    "ax.set_xlabel('Cantidad de pacientes')\n",
    "ax.set_ylabel(\"Servicio\")\n",
    "ax.set_title('Pacientes por servicio')\n",
    "\n",
    "# anotar valores al final de cada barra\n",
    "x_off = max(1, service_dist.max() * 0.01)\n",
    "for i, v in enumerate(service_dist.values):\n",
    "    ax.text(v + x_off, i, str(v), va='center')"
   ]
  },
  {
   "cell_type": "code",
   "execution_count": 80,
   "id": "fa79f73e",
   "metadata": {},
   "outputs": [
    {
     "data": {
      "image/png": "[encoded data removed]",
      "text/plain": [
       "<Figure size 1200x600 with 1 Axes>"
      ]
     },
     "metadata": {},
     "output_type": "display_data"
    },
    {
     "name": "stdout",
     "output_type": "stream",
     "text": [
      "                      mean  max\n",
      "service                        \n",
      "surgery           7.866142   14\n",
      "ICU               7.605809   14\n",
      "emergency         7.159696   14\n",
      "general_medicine  6.995868   14\n"
     ]
    }
   ],
   "source": [
    "# Duracion de la estadia por servicio\n",
    "agg = df_patients.groupby('service')[\"length_of_stay\"].agg(['mean', 'max']).sort_values('mean', ascending=False)\n",
    "\n",
    "# Creamos los indices para cada uno de los servicios ind = [1, 2, 3, 4]\n",
    "ind = np.arange(len(agg))\n",
    "width = 0.3\n",
    "\n",
    "# Visualizacion \n",
    "plt.figure(figsize=(12,6))\n",
    "plt.bar(ind,         agg['mean'], width, label='Promedio', color=\"#3498db\")\n",
    "plt.bar(ind + width, agg['max'], width, label='Máximo', color='#e67e22')\n",
    "\n",
    "plt.xticks(ind, agg.index, rotation=45, ha='right')\n",
    "plt.ylabel('Días')\n",
    "plt.title(f'Duración de estadía por servicio')\n",
    "plt.legend()\n",
    "plt.tight_layout()\n",
    "plt.show()\n",
    "print(agg)\n"
   ]
  }
 ],
 "metadata": {
  "kernelspec": {
   "display_name": "Python 3",
   "language": "python",
   "name": "python3"
  },
  "language_info": {
   "codemirror_mode": {
    "name": "ipython",
    "version": 3
   },
   "file_extension": ".py",
   "mimetype": "text/x-python",
   "name": "python",
   "nbconvert_exporter": "python",
   "pygments_lexer": "ipython3",
   "version": "3.10.12"
  }
 },
 "nbformat": 4,
 "nbformat_minor": 5
}
