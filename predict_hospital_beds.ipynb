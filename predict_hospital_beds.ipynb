{
 "cells": [
  {
   "cell_type": "markdown",
   "id": "74d5a537",
   "metadata": {},
   "source": [
    "# 1. Dependencias\n",
    "---"
   ]
  },
  {
   "cell_type": "code",
   "execution_count": 18,
   "id": "871dce18",
   "metadata": {},
   "outputs": [],
   "source": [
    "import numpy as np\n",
    "import pandas as pd"
   ]
  }
 ],
 "metadata": {
  "language_info": {
   "name": "python"
  }
 },
 "nbformat": 4,
 "nbformat_minor": 5
}
